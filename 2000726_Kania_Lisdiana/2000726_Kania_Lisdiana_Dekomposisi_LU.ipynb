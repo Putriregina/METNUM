{
  "cells": [
    {
      "cell_type": "markdown",
      "source": [
        "Mencari matrix A"
      ],
      "metadata": {
        "id": "6g47tYSdrre0"
      }
    },
    {
      "cell_type": "code",
      "source": [
        "import numpy as np\n",
        "\n",
        "L = np.array([[2, 0, 0],\n",
        "              [3, 1, 0],\n",
        "              [3, 4, 1]])\n",
        "\n",
        "U = np.array([[1, 2, 5],\n",
        "              [0, 1, 3],\n",
        "              [0, 0, 1]])\n",
        "A = np.dot(L, U)\n",
        "\n",
        "print(\"Matriks A:\")\n",
        "print(A)"
      ],
      "metadata": {
        "id": "pJsug9furzvv"
      },
      "execution_count": null,
      "outputs": []
    },
    {
      "cell_type": "markdown",
      "source": [
        "Matriks A:\n",
        "[[ 2  4 10]\n",
        " [ 3  7 18]\n",
        " [ 3 10 28]]\n"
      ],
      "metadata": {
        "id": "I-gcdx7Dr1ft"
      }
    },
    {
      "cell_type": "markdown",
      "source": [
        "matriks X"
      ],
      "metadata": {
        "id": "Gx8V4OjNr8Ob"
      }
    },
    {
      "cell_type": "code",
      "source": [
        "b = np.array([11, 7, 2])\n",
        "\n",
        "# membuat matriks x\n",
        "x = np.zeros(3)  # Membuat matriks x awal dengan nol\n",
        "\n",
        "# x3\n",
        "x[2] = b[2] / U[2, 2]\n",
        "\n",
        "# x2\n",
        "x[1] = (b[1] - U[1, 2] * x[2]) / U[1, 1]\n",
        "\n",
        "# dan x1\n",
        "x[0] = (b[0] - U[0, 1] * x[1] - U[0, 2] * x[2]) / U[0, 0]\n",
        "\n",
        "# ini untuk menampilkan x [x1, x2, x3]\n",
        "print(\"x:\")\n",
        "print(x)"
      ],
      "metadata": {
        "id": "C3jjAdwFr_LJ"
      },
      "execution_count": null,
      "outputs": []
    },
    {
      "cell_type": "markdown",
      "source": [
        "x:\n",
        "[-1.  1.  2.]"
      ],
      "metadata": {
        "id": "9ptUAvrcsRbs"
      }
    },
    {
      "cell_type": "markdown",
      "source": [
        "Mencari Y"
      ],
      "metadata": {
        "id": "g3AWE0DxsSUT"
      }
    },
    {
      "cell_type": "code",
      "source": [
        "\n",
        "#sama kyk cari X, cuma kalo Y diputer balik\n",
        "b = np.array([2, 5, 8])\n",
        "y = np.zeros(3)\n",
        "y[0] = b[0] / L[0, 0]\n",
        "y[1] = (b[1] - L[1, 0] * y[0]) / L[1, 1]\n",
        "y[2] = (b[2] - L[2, 0] * y[1] - L[1, 0] * y[0]) / L[2, 2]\n",
        "print(\"y:\")\n",
        "print(y)"
      ],
      "metadata": {
        "id": "WVmKsZszsT0Q"
      },
      "execution_count": null,
      "outputs": []
    },
    {
      "cell_type": "markdown",
      "source": [
        "y:\n",
        "[ 1.  2. -1.]"
      ],
      "metadata": {
        "id": "aIqCU_Hmsj8S"
      }
    }
  ],
  "metadata": {
    "colab": {
      "toc_visible": true,
      "provenance": []
    },
    "kernelspec": {
      "display_name": "Python 3",
      "name": "python3"
    }
  },
  "nbformat": 4,
  "nbformat_minor": 0
}
