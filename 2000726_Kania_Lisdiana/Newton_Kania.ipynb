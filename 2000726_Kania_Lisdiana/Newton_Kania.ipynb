{
  "nbformat": 4,
  "nbformat_minor": 0,
  "metadata": {
    "colab": {
      "provenance": []
    },
    "kernelspec": {
      "name": "python3",
      "display_name": "Python 3"
    },
    "language_info": {
      "name": "python"
    }
  },
  "cells": [
    {
      "cell_type": "code",
      "execution_count": 3,
      "metadata": {
        "colab": {
          "base_uri": "https://localhost:8080/"
        },
        "id": "9WTCqo0089UW",
        "outputId": "18600f78-6556-4117-e010-0be27f29883d"
      },
      "outputs": [
        {
          "output_type": "stream",
          "name": "stdout",
          "text": [
            "Masukkan jumlah titik data: 2\n",
            "Masukkan x_1: 10\n",
            "Masukkan y_1: 20\n",
            "Masukkan x_2: 30\n",
            "Masukkan y_2: 40\n",
            "Masukkan nilai x yang ingin diinterpolasi: 10\n",
            "Interpolasi pada x = 10.0 adalah 20.0\n"
          ]
        }
      ],
      "source": [
        "def divided_difference(x, y):\n",
        "    n = len(x)\n",
        "    if n != len(y):\n",
        "        raise ValueError(\"Jumlah elemen x dan y harus sama\")\n",
        "\n",
        "    f = [[0 for _ in range(n)] for _ in range(n)]\n",
        "    for i in range(n):\n",
        "        f[i][0] = y[i]\n",
        "\n",
        "    for j in range(1, n):\n",
        "        for i in range(n - j):\n",
        "            f[i][j] = (f[i + 1][j - 1] - f[i][j - 1]) / (x[i + j] - x[i])\n",
        "\n",
        "    return f\n",
        "\n",
        "def newton_interpolation(x, y, x_interp):\n",
        "    n = len(x)\n",
        "    f = divided_difference(x, y)\n",
        "    result = f[0][0]\n",
        "    temp = 1\n",
        "\n",
        "    for i in range(1, n):\n",
        "        temp *= (x_interp - x[i - 1])\n",
        "        result += f[0][i] * temp\n",
        "\n",
        "    return result\n",
        "\n",
        "# Input titik-titik data\n",
        "n = int(input(\"Masukkan jumlah titik data: \"))\n",
        "x = []\n",
        "y = []\n",
        "for i in range(n):\n",
        "    x_val = float(input(f\"Masukkan x_{i+1}: \"))\n",
        "    y_val = float(input(f\"Masukkan y_{i+1}: \"))\n",
        "    x.append(x_val)\n",
        "    y.append(y_val)\n",
        "\n",
        "# Input nilai x yang ingin diinterpolasi\n",
        "x_interp = float(input(\"Masukkan nilai x yang ingin diinterpolasi: \"))\n",
        "\n",
        "# Menghitung interpolasi\n",
        "interpolated_value = newton_interpolation(x, y, x_interp)\n",
        "print(f\"Interpolasi pada x = {x_interp} adalah {interpolated_value}\")"
      ]
    }
  ]
}