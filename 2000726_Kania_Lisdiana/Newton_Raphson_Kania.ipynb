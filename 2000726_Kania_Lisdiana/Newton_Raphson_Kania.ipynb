{
  "nbformat": 4,
  "nbformat_minor": 0,
  "metadata": {
    "colab": {
      "provenance": []
    },
    "kernelspec": {
      "name": "python3",
      "display_name": "Python 3"
    },
    "language_info": {
      "name": "python"
    }
  },
  "cells": [
    {
      "cell_type": "code",
      "execution_count": 2,
      "metadata": {
        "colab": {
          "base_uri": "https://localhost:8080/"
        },
        "id": "9WTCqo0089UW",
        "outputId": "dc26df97-3d3a-42a4-e1af-485ab67b7243"
      },
      "outputs": [
        {
          "output_type": "stream",
          "name": "stdout",
          "text": [
            "Masukkan tebakan awal (x0): 1\n",
            "Masukkan toleransi: 1.2\n",
            "Masukkan jumlah iterasi maksimum: 5\n",
            "Masukkan ekspresi fungsi f(x): x**2 - 4\n",
            "Masukkan ekspresi turunan pertama df(x): 2 * x\n",
            "Akar perkiraan: 2.05\n"
          ]
        }
      ],
      "source": [
        "def newton_raphson(f, df, x0, tol, max_iter):\n",
        "    x = x0\n",
        "    iter_count = 0\n",
        "\n",
        "    while iter_count < max_iter:\n",
        "        x_new = x - f(x) / df(x)\n",
        "\n",
        "        if abs(x_new - x) < tol:\n",
        "            return x_new\n",
        "\n",
        "        x = x_new\n",
        "        iter_count += 1\n",
        "\n",
        "    raise Exception(\"Metode Newton-Raphson tidak konvergen\")\n",
        "\n",
        "# Masukkan fungsi oleh user f(x)\n",
        "def get_user_function():\n",
        "    expression = input(\"Masukkan ekspresi fungsi f(x): \")\n",
        "    f = lambda x: eval(expression)\n",
        "    return f\n",
        "\n",
        "# Masukkan turunan pertama user df(x)\n",
        "def get_user_derivative():\n",
        "    expression = input(\"Masukkan ekspresi turunan pertama df(x): \")\n",
        "    df = lambda x: eval(expression)\n",
        "    return df\n",
        "\n",
        "# Tebakan awal\n",
        "x0 = float(input(\"Masukkan tebakan awal (x0): \"))\n",
        "\n",
        "# Toleransi dan jumlah iterasi maksimum\n",
        "tolerance = float(input(\"Masukkan toleransi: \"))\n",
        "max_iterations = int(input(\"Masukkan jumlah iterasi maksimum: \"))\n",
        "\n",
        "# Dapatkan fungsi dan turunan dari pengguna\n",
        "f = get_user_function()\n",
        "df = get_user_derivative()\n",
        "\n",
        "# Panggil Newton-Raphson\n",
        "result = newton_raphson(f, df, x0, tolerance, max_iterations)\n",
        "\n",
        "print(\"Akar perkiraan:\", result)"
      ]
    }
  ]
}