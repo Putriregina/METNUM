{
  "nbformat": 4,
  "nbformat_minor": 0,
  "metadata": {
    "colab": {
      "provenance": []
    },
    "kernelspec": {
      "name": "python3",
      "display_name": "Python 3"
    },
    "language_info": {
      "name": "python"
    }
  },
  "cells": [
    {
      "cell_type": "markdown",
      "source": [
        "**Mencari Matriks A**"
      ],
      "metadata": {
        "id": "4URDsibcVE7Z"
      }
    },
    {
      "cell_type": "code",
      "execution_count": 1,
      "metadata": {
        "colab": {
          "base_uri": "https://localhost:8080/"
        },
        "id": "CdJArlPkU-DW",
        "outputId": "a52e51d6-fbd2-4158-b855-c7f1970360b6"
      },
      "outputs": [
        {
          "output_type": "stream",
          "name": "stdout",
          "text": [
            "Matriks A:\n",
            "[[ 2  4 10]\n",
            " [ 3  7 18]\n",
            " [ 3 10 28]]\n"
          ]
        }
      ],
      "source": [
        "import numpy as np\n",
        "\n",
        "L = np.array([[2, 0, 0],\n",
        "              [3, 1, 0],\n",
        "              [3, 4, 1]])\n",
        "\n",
        "U = np.array([[1, 2, 5],\n",
        "              [0, 1, 3],\n",
        "              [0, 0, 1]])\n",
        "A = np.dot(L, U)\n",
        "\n",
        "print(\"Matriks A:\")\n",
        "print(A)\n"
      ]
    },
    {
      "cell_type": "markdown",
      "source": [
        "matriks X"
      ],
      "metadata": {
        "id": "1H0jh5kNVL_f"
      }
    },
    {
      "cell_type": "code",
      "source": [
        "b = np.array([11, 7, 2])\n",
        "\n",
        "# buat matriks x nya\n",
        "x = np.zeros(3)  # Membuat matriks x awal dengan nilai nol\n",
        "\n",
        "# ini untuk x3\n",
        "x[2] = b[2] / U[2, 2]\n",
        "\n",
        "# ini untuk x2\n",
        "x[1] = (b[1] - U[1, 2] * x[2]) / U[1, 1]\n",
        "\n",
        "# dan yang ini untuk x1\n",
        "x[0] = (b[0] - U[0, 1] * x[1] - U[0, 2] * x[2]) / U[0, 0]\n",
        "\n",
        "# Menampilkan x [x1, x2, x3]\n",
        "print(\"x:\")\n",
        "print(x)\n"
      ],
      "metadata": {
        "colab": {
          "base_uri": "https://localhost:8080/"
        },
        "id": "68V-syhsVEjG",
        "outputId": "3598bb4e-97fc-4b8d-ac7e-1ef6a819c818"
      },
      "execution_count": 2,
      "outputs": [
        {
          "output_type": "stream",
          "name": "stdout",
          "text": [
            "x:\n",
            "[-1.  1.  2.]\n"
          ]
        }
      ]
    },
    {
      "cell_type": "markdown",
      "source": [
        "mencari Y"
      ],
      "metadata": {
        "id": "Wh5wFekXaX9T"
      }
    },
    {
      "cell_type": "code",
      "source": [
        "#sama seperti mencari X, cuman diputar balik untuk Y\n",
        "b = np.array([2, 5, 8])\n",
        "y = np.zeros(3)\n",
        "y[0] = b[0] / L[0, 0]\n",
        "y[1] = (b[1] - L[1, 0] * y[0]) / L[1, 1]\n",
        "y[2] = (b[2] - L[2, 0] * y[1] - L[1, 0] * y[0]) / L[2, 2]\n",
        "print(\"y:\")\n",
        "print(y)\n"
      ],
      "metadata": {
        "colab": {
          "base_uri": "https://localhost:8080/"
        },
        "id": "oOrF9Vi9aWvE",
        "outputId": "70893f0c-2ace-4516-879f-edaf2293e224"
      },
      "execution_count": 7,
      "outputs": [
        {
          "output_type": "stream",
          "name": "stdout",
          "text": [
            "y:\n",
            "[ 1.  2. -1.]\n"
          ]
        }
      ]
    }
  ]
}