{
  "nbformat": 4,
  "nbformat_minor": 0,
  "metadata": {
    "colab": {
      "provenance": []
    },
    "kernelspec": {
      "name": "python3",
      "display_name": "Python 3"
    },
    "language_info": {
      "name": "python"
    }
  },
  "cells": [
    {
      "cell_type": "markdown",
      "metadata": {
        "id": "view-in-github"
      },
      "source": [
        "## Eliminasi Gauss Jordan"
      ]
    },
    {
      "cell_type": "code",
      "execution_count": null,
      "metadata": {
        "id": "JJoThu87Wt__"
      },
      "outputs": [],
      "source": [
        "def gauss_jordan_elimination(matrix):\n",
        "    n = len(matrix)\n",
        "\n",
        "    for i in range(n):\n",
        "        # Pivoting - find the row with the maximum element in the current column\n",
        "        max_row = i\n",
        "        for j in range(i + 1, n):\n",
        "            if abs(matrix[j][i]) > abs(matrix[max_row][i]):\n",
        "                max_row = j\n",
        "        matrix[i], matrix[max_row] = matrix[max_row], matrix[i]\n",
        "        pivot = matrix[i][i]\n",
        "        for j in range(i, n + 1):\n",
        "            matrix[i][j] /= pivot\n",
        "        for j in range(n):\n",
        "            if j != i:\n",
        "                factor = matrix[j][i]\n",
        "                for k in range(i, n + 1):\n",
        "                    matrix[j][k] -= factor * matrix[i][k]\n",
        "\n",
        "    solutions = [row[-1] for row in matrix]\n",
        "    return solutions\n",
        "\n",
        "n = int(input(\"Masukkan jumlah variabel dalam sistem persamaan linear: \"))\n",
        "\n",
        "matrix = []\n",
        "print(\"Masukkan matriks koefisien dan vektor konstanta:\")\n",
        "for i in range(n):\n",
        "    row = list(map(float, input(f\"Masukkan baris {i + 1} (sebagai bilangan desimal, dipisahkan dengan spasi): \").split()))\n",
        "    matrix.append(row)\n",
        "solutions = gauss_jordan_elimination(matrix)\n",
        "\n",
        "print(\"Solusi sistem persamaan linear:\")\n",
        "for i, sol in enumerate(solutions):\n",
        "    print(f\"x{i+1} = {sol}\")\n"
      ]
    }
  ]
}