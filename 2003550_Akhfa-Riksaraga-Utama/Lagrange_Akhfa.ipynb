{
  "nbformat": 4,
  "nbformat_minor": 0,
  "metadata": {
    "colab": {
      "provenance": []
    },
    "kernelspec": {
      "name": "python3",
      "display_name": "Python 3"
    },
    "language_info": {
      "name": "python"
    }
  },
  "cells": [
    {
      "cell_type": "markdown",
      "source": [
        "# **Interpolasi Lagrange**"
      ],
      "metadata": {
        "id": "9Q8l7YHgVsdu"
      }
    },
    {
      "cell_type": "code",
      "execution_count": 1,
      "metadata": {
        "id": "XkgZ55PaTt_T",
        "colab": {
          "base_uri": "https://localhost:8080/"
        },
        "outputId": "2a0108c4-8288-4066-c330-7d06efc03de8"
      },
      "outputs": [
        {
          "output_type": "stream",
          "name": "stdout",
          "text": [
            "Masukkan jumlah titik data: 2\n",
            "Masukkan x_1: 10\n",
            "Masukkan y_1: 12\n",
            "Masukkan x_2: 20\n",
            "Masukkan y_2: 22\n",
            "Masukkan nilai x yang ingin diinterpolasi: 15\n",
            "Interpolasi pada x = 15.0 adalah 17.0\n"
          ]
        }
      ],
      "source": [
        "def lagrange_interpolation(x, y, x_interp):\n",
        "    n = len(x)\n",
        "    result = 0.0\n",
        "\n",
        "    for i in range(n):\n",
        "        term = y[i]\n",
        "        for j in range(n):\n",
        "            if j != i:\n",
        "                term *= (x_interp - x[j]) / (x[i] - x[j])\n",
        "        result += term\n",
        "\n",
        "    return result\n",
        "\n",
        "# Input titik-titik data\n",
        "n = int(input(\"Masukkan jumlah titik data: \"))\n",
        "x = []\n",
        "y = []\n",
        "for i in range(n):\n",
        "    x_val = float(input(f\"Masukkan x_{i+1}: \"))\n",
        "    y_val = float(input(f\"Masukkan y_{i+1}: \"))\n",
        "    x.append(x_val)\n",
        "    y.append(y_val)\n",
        "\n",
        "# Input nilai x yang ingin diinterpolasi\n",
        "x_interp = float(input(\"Masukkan nilai x yang ingin diinterpolasi: \"))\n",
        "\n",
        "# Menghitung interpolasi\n",
        "interpolated_value = lagrange_interpolation(x, y, x_interp)\n",
        "print(f\"Interpolasi pada x = {x_interp} adalah {interpolated_value}\")\n"
      ]
    },
    {
      "cell_type": "markdown",
      "source": [
        "# **Polinom Lagrange**"
      ],
      "metadata": {
        "id": "c1MdzArUVwlr"
      }
    },
    {
      "cell_type": "code",
      "source": [
        "def lagrange_basis_polynomial(x, i, x_interp):\n",
        "    result = 1\n",
        "    for j in range(len(x)):\n",
        "        if j != i:\n",
        "            result *= (x_interp - x[j]) / (x[i] - x[j])\n",
        "    return result\n",
        "\n",
        "def lagrange_interpolation(x, y, x_interp):\n",
        "    n = len(x)\n",
        "    result = 0.0\n",
        "\n",
        "    for i in range(n):\n",
        "        result += y[i] * lagrange_basis_polynomial(x, i, x_interp)\n",
        "\n",
        "    return result\n",
        "\n",
        "# Input titik-titik data\n",
        "n = int(input(\"Masukkan jumlah titik data: \"))\n",
        "x = []\n",
        "y = []\n",
        "for i in range(n):\n",
        "    x_val = float(input(f\"Masukkan x_{i+1}: \"))\n",
        "    y_val = float(input(f\"Masukkan y_{i+1}: \"))\n",
        "    x.append(x_val)\n",
        "    y.append(y_val)\n",
        "\n",
        "# Input nilai x yang ingin diinterpolasi\n",
        "x_interp = float(input(\"Masukkan nilai x yang ingin diinterpolasi: \"))\n",
        "\n",
        "# Menghitung interpolasi\n",
        "interpolated_value = lagrange_interpolation(x, y, x_interp)\n",
        "print(f\"Interpolasi pada x = {x_interp} adalah {interpolated_value}\")\n"
      ],
      "metadata": {
        "id": "ACHvP8XtVziL"
      },
      "execution_count": null,
      "outputs": []
    }
  ]
}