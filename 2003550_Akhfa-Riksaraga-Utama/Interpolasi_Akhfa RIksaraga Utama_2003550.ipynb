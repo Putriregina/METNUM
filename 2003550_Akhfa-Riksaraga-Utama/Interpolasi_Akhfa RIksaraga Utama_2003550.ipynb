{
  "nbformat": 4,
  "nbformat_minor": 0,
  "metadata": {
    "colab": {
      "provenance": []
    },
    "kernelspec": {
      "name": "python3",
      "display_name": "Python 3"
    },
    "language_info": {
      "name": "python"
    }
  },
  "cells": [
    {
      "cell_type": "markdown",
      "source": [
        "**`A. `**\n",
        "\n",
        "dalam python buat progam untuk soal berikut:\n",
        "hampiri fungsi F(x)=cos x dengan interpolasi derajat 3 dengan menggunakan titik-titik berikut\n",
        "\n",
        "\n",
        "x0=0.0\n",
        "x1=0.4\n",
        "x2=0.8\n",
        "x3=1.2\n",
        "\n",
        "y0=1.000\n",
        "y1=0.921\n",
        "y2=0.696\n",
        "y3=0.362\n"
      ],
      "metadata": {
        "id": "rP4ooWh9rrEr"
      }
    },
    {
      "cell_type": "code",
      "execution_count": 9,
      "metadata": {
        "colab": {
          "base_uri": "https://localhost:8080/"
        },
        "id": "0S_o4APIqrEf",
        "outputId": "5242cd6f-0a22-4a9e-ab98-990e412571d3"
      },
      "outputs": [
        {
          "output_type": "stream",
          "name": "stdout",
          "text": [
            "a0 =, 1.000\n",
            "a1 =, -0.197\n",
            "a2 =, -0.456\n",
            "a3 =, 0.037\n"
          ]
        }
      ],
      "source": [
        "#data-datanya didefiniskan\n",
        "x0 = 0.0\n",
        "x1 = 0.4\n",
        "x2 = 0.8\n",
        "x3 = 1.2\n",
        "y0 = 1.000\n",
        "y1 = 0.921\n",
        "y2 = 0.696\n",
        "y3 = 0.362\n",
        "\n",
        "# rumus, pada dasarnya...\n",
        "a0 = y0\n",
        "a1 = (y1 - a0) / (x1 - x0)\n",
        "a2 = ((y2 - a0 - a1 * (x2 - x0)) / ((x2 - x0) * (x2 - x1)))\n",
        "a3 = (y3 - a0 - a1 * (x3 - x0) - a2 * (x3 - x0) * (x3 - x1))\n",
        "\n",
        "#menunjukan hasil dari tiap Kalkulasi\n",
        "print(f\"a0 =, {a0:.3f}\")\n",
        "print(f\"a1 =, {a1:.3f}\")\n",
        "print(f\"a2 =, {a2:.3f}\")\n",
        "print(f\"a3 =, {a3:.3f}\")\n",
        "\n"
      ]
    },
    {
      "cell_type": "markdown",
      "source": [
        "**`B. `**\n",
        "\n",
        "Carilah Perkiraan nilai Cos(0,5)"
      ],
      "metadata": {
        "id": "ElWmGCRAr-0Q"
      }
    },
    {
      "cell_type": "code",
      "source": [
        "#jadi X nya sekarang Lima.\n",
        "x = 0.5\n",
        "#jadi bila di substitusikan\n",
        "p3x = a0 + a1 * (x - x0) + a2 * (x - x0) * (x - x1) + a3 * (x - x0) * (x - x1) * (x - x2)\n",
        "#hasilnya adalah seperti di bawah ini\n",
        "print(f\"cos(0.5) = {p3x:.3f}\")\n"
      ],
      "metadata": {
        "colab": {
          "base_uri": "https://localhost:8080/"
        },
        "id": "Go8lCSJLsQEi",
        "outputId": "2bd74f66-05b4-4a5d-a511-ae5325053a3b"
      },
      "execution_count": 12,
      "outputs": [
        {
          "output_type": "stream",
          "name": "stdout",
          "text": [
            "cos(0.5) = 0.878\n"
          ]
        }
      ]
    },
    {
      "cell_type": "markdown",
      "source": [
        "**`C. `**\n",
        "\n",
        "Jika nilai Eksak cos(0.5) adalah 0.826 berapa nilai yang dihasilkan?"
      ],
      "metadata": {
        "id": "E_D3_G-YtUxo"
      }
    },
    {
      "cell_type": "code",
      "source": [
        "#jadi nilai Eksaknya adalah 0.826\n",
        "eksak = 0.826\n",
        "\n",
        "#melalui perhitungan Absolut\n",
        "absolut = abs(p3x - eksak)\n",
        "\n",
        "#didapatkan hasil berikut\n",
        "print(f\"Errornya = {absolut:.3f}\")"
      ],
      "metadata": {
        "colab": {
          "base_uri": "https://localhost:8080/"
        },
        "id": "sHXyta8Ktj-0",
        "outputId": "bebbc094-f956-440a-dd18-63c9f9a6332d"
      },
      "execution_count": 11,
      "outputs": [
        {
          "output_type": "stream",
          "name": "stdout",
          "text": [
            "Errornya = 0.052\n"
          ]
        }
      ]
    }
  ]
}
