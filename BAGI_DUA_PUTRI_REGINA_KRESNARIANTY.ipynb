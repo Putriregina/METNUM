{
  "nbformat": 4,
  "nbformat_minor": 0,
  "metadata": {
    "colab": {
      "provenance": [],
      "toc_visible": true
    },
    "kernelspec": {
      "name": "python3",
      "display_name": "Python 3"
    },
    "language_info": {
      "name": "python"
    }
  },
  "cells": [
    {
      "cell_type": "markdown",
      "source": [
        "##**Metode Bagi dua**\n",
        "\n",
        "---\n",
        "\n"
      ],
      "metadata": {
        "id": "596LukRau_qA"
      }
    },
    {
      "cell_type": "markdown",
      "source": [
        "SOAL\n",
        "No 1\n",
        "Buatlah sebuah fungsi penyelesaian yang tepat baik dengan menggunakan metode Bagi Dua ketika\n",
        "\n",
        "a. f(x) = x^3 - 2x + 1\n",
        "\n",
        "b. f(x) = e^x - x\n",
        "\n",
        "1. Salah satu interval yang memuat akar dari f\n",
        "2. Lakukan pencarian akar (manual) dengan menggunakan metode bagi dua, untuk mencari akar hampiran sampai pada iterasi ke-3 dengan munggunakan interval yang sudah diperoleh pada bagian a\n",
        "\n",
        "No 2\n",
        "1. Buatlah modifikasi fungsi ketika kriteria program berhenti adalah sudah mencapai pada iterasi ke-n\n",
        "2. Buatlah modifikasi agar user dapat menginputkan fungsi maupun batas akar dan galatnya\n",
        "3. Buatlah modifikasi agar akarnya dapat ditampilkan dalam bentuk grafik"
      ],
      "metadata": {
        "id": "3o84AxGAI3Ni"
      }
    },
    {
      "cell_type": "markdown",
      "source": [
        "## NOMOR 1"
      ],
      "metadata": {
        "id": "JJNPwWCadrj5"
      }
    },
    {
      "cell_type": "markdown",
      "source": [
        "Run dulu ini"
      ],
      "metadata": {
        "id": "ZrIu1MEskpHG"
      }
    },
    {
      "cell_type": "code",
      "execution_count": null,
      "metadata": {
        "id": "wKEx_JbCu8Pu"
      },
      "outputs": [],
      "source": [
        "import numpy as np #Memanggil library\n",
        "def my_bisection(f, a, b, e):\n",
        "  if np.sign(f(a)) == np.sign(f(b)):\n",
        "    raise Exception('Tidak ada akar pada interval a dan b')\n",
        "  m = (a + b)/2\n",
        "  if np.abs(f(m)) < e:\n",
        "    return m\n",
        "  elif np.sign(f(a)) == np.sign(f(m)):\n",
        "    return my_bisection(f, m, b, e)\n",
        "  elif np.sign(f(b)) == np.sign(f(m)):\n",
        "    return my_bisection(f, a, m, e)\n",
        "\n",
        "    #code ini berfungsi untuk memastikan apakah ada akar pada interval yang akan ditentukan"
      ]
    },
    {
      "cell_type": "markdown",
      "source": [
        "\n",
        "\n",
        "\n",
        "\n",
        "# A. f(x)=x^3-2x+1\n",
        "\n",
        "\n"
      ],
      "metadata": {
        "id": "zajk5KuTUAGw"
      }
    },
    {
      "cell_type": "code",
      "source": [
        "import numpy as np #Memanggil library\n",
        "f = lambda x: x**3 - 2*x + 1\n",
        "\n",
        "r1 = my_bisection(f, -10, 10, 0.1) #Mengatur nilai galat seteliti mungkin (0,1)\n",
        "print(\"r1 =\", r1)\n",
        "print(\"f(r1) =\", f(r1))\n",
        "\n",
        "r01 = my_bisection(f, -10, 10, 0.01)\n",
        "print(\"r01 = \", r01)\n",
        "print(\"f(r01) = \", f(r01))\n",
        "\n",
        "#Code diatas berfungsi untuk mencari interval awal"
      ],
      "metadata": {
        "colab": {
          "base_uri": "https://localhost:8080/"
        },
        "id": "ctxG82W_SsyN",
        "outputId": "67fc1fe4-8c7d-4bef-cb36-dee7857139ab"
      },
      "execution_count": null,
      "outputs": [
        {
          "output_type": "stream",
          "name": "stdout",
          "text": [
            "r1 = -1.6015625\n",
            "f(r1) = 0.09511327743530273\n",
            "r01 =  -1.61865234375\n",
            "f(r01) =  -0.003621769486926496\n"
          ]
        }
      ]
    },
    {
      "cell_type": "code",
      "source": [
        "def f(x):\n",
        "    return x**3 - 2*x + 1\n",
        "\n",
        "#Code dibawah ini berfungsi untuk mencari akar diantara 2 interval yang dibatasi hingga 3 iterasi\n",
        "def find_interval_with_root(f, a, b, max_iterations=3):\n",
        "    if f(a) * f(b) > 0:\n",
        "        print(\"Interval ini tidak mengandung akar.\")\n",
        "        return None\n",
        "\n",
        "    for iteration in range(max_iterations):\n",
        "        c = (a + b) / 2  #Berfungsi untuk mencari titik tengah interval\n",
        "        if f(a) * f(c) < 0:\n",
        "            b = c\n",
        "        else:\n",
        "            a = c\n",
        "\n",
        "    #Berfungsi untuk mengtur agar nilai a dan b memiliki 3 angka di belakang koma\n",
        "    formatted_a = \"{:.3f}\".format(a)\n",
        "    formatted_b = \"{:.3f}\".format(b)\n",
        "\n",
        "    print(f\"Interval yang memuat akar (iterasi ke-{max_iterations}): [{formatted_a}, {formatted_b}]\")\n",
        "    return [a, b]\n",
        "\n",
        "#Berfungsi untuk memasukan interval awal\n",
        "a = r1  #Nilai batas bawah interval yang sudah ada sebelumnya\n",
        "b = r01   #Nilai batas atas interval yang sudah ada sebelumnya\n",
        "\n",
        "find_interval_with_root(f, a, b)\n"
      ],
      "metadata": {
        "colab": {
          "base_uri": "https://localhost:8080/"
        },
        "id": "nGt469naWAsv",
        "outputId": "9cc76f00-4fc5-4aa3-b853-84ebdbd3a1c4"
      },
      "execution_count": null,
      "outputs": [
        {
          "output_type": "stream",
          "name": "stdout",
          "text": [
            "Interval yang memuat akar (iterasi ke-3): [-1.617, -1.619]\n"
          ]
        },
        {
          "output_type": "execute_result",
          "data": {
            "text/plain": [
              "[-1.61651611328125, -1.61865234375]"
            ]
          },
          "metadata": {},
          "execution_count": 91
        }
      ]
    },
    {
      "cell_type": "markdown",
      "source": [
        "\n",
        "\n",
        "\n",
        "# B. f(x) = e^x - x.\n",
        "\n",
        "\n"
      ],
      "metadata": {
        "id": "CMdBMLW4vWby"
      }
    },
    {
      "cell_type": "code",
      "source": [
        "import numpy as np\n",
        "e = abs(a-b) #Code ini berfungsi untuk mencari nilai galat dengan menggunakn interval yang telah dicari sebelumnya\n",
        "f = lambda x: e**x - x\n",
        "\n",
        "r1 = my_bisection(f, -10, 10, e)\n",
        "print(\"r1 =\", r1)\n",
        "print(\"f(r1) =\", f(r1))\n",
        "\n",
        "r01 = my_bisection(f, -10, 10, e)\n",
        "print(\"r01 = \", r01)\n",
        "print(\"f(r01) = \", f(r01))"
      ],
      "metadata": {
        "colab": {
          "base_uri": "https://localhost:8080/"
        },
        "id": "hPpILMJUZyvq",
        "outputId": "ef2e2810-2e09-4f1d-95e3-016766294970"
      },
      "execution_count": null,
      "outputs": [
        {
          "output_type": "stream",
          "name": "stdout",
          "text": [
            "r1 = 0.29296875\n",
            "f(r1) = 0.010593307607842939\n",
            "r01 =  0.29296875\n",
            "f(r01) =  0.010593307607842939\n"
          ]
        }
      ]
    },
    {
      "cell_type": "code",
      "source": [
        "def f(x):\n",
        "    return e**x - x\n",
        "\n",
        "#Code di bawah ini berfungsi untuk menyelesaikan pencarian akar diantara dua intervalyang dibatasi 3 iterasi\n",
        "#lalu kembali ke e**x - x\n",
        "def find_interval_with_root(f, a, b, max_iterations=3):\n",
        "    if f(a) * f(b) > 0:\n",
        "        print(\"Interval ini tidak mengandung akar.\")\n",
        "        return None\n",
        "\n",
        "    for iteration in range(max_iterations):\n",
        "        c = (a + b) / 2  #Berfungsi untuk mencari titik tengah interval\n",
        "        if f(a) * f(c) < 0:\n",
        "            b = c\n",
        "        else:\n",
        "            a = c\n",
        "\n",
        "    #Berfungsi untuk mengtur agar nilai a dan b memiliki 3 angka di belakang koma\n",
        "    formatted_a = \"{:.3f}\".format(a)\n",
        "    formatted_b = \"{:.3f}\".format(b)\n",
        "\n",
        "    print(f\"Interval yang memuat akar (iterasi ke-{max_iterations}): [{formatted_a}, {formatted_b}]\")\n",
        "    return [a, b]\n",
        "\n",
        "#Memasukan nilai interval awal\n",
        "a = r1  #Memasukan nilai batas atas bawah interval yang sebelumnya\n",
        "b = r01   #Memasukan nilai batas atas interval yang sebelumnya\n",
        "\n",
        "find_interval_with_root(f, a, b)\n"
      ],
      "metadata": {
        "colab": {
          "base_uri": "https://localhost:8080/"
        },
        "id": "X6V-L2zzcilg",
        "outputId": "fb0303e6-f1e2-44f5-fad8-bff37c3f82aa"
      },
      "execution_count": null,
      "outputs": [
        {
          "output_type": "stream",
          "name": "stdout",
          "text": [
            "Interval ini tidak mengandung akar.\n"
          ]
        }
      ]
    },
    {
      "cell_type": "markdown",
      "source": [
        "\n",
        "\n",
        "# NOMOR 2\n",
        "\n"
      ],
      "metadata": {
        "id": "GfkQy_CSdjq3"
      }
    },
    {
      "cell_type": "code",
      "source": [
        "import math\n",
        "import numpy as np\n",
        "import matplotlib.pyplot as plt\n",
        "\n",
        "#Fungsi pada soal\n",
        "def f(x):\n",
        "    return x**3 - 2*x + 1\n",
        "\n",
        "#Mencari akar dengan metode bagi dua\n",
        "def bisection_method(func, a, b, tol, max_iter):\n",
        "    if func(a) * func(b) >= 0:\n",
        "        print(\"Interval ini mungkin tidak mengandung akar.\")\n",
        "        return None\n",
        "\n",
        "    iterasi = 0\n",
        "    while (b - a) / 2.0 > tol and iterasi < max_iter:\n",
        "        c = (a + b) / 2.0\n",
        "        if func(c) == 0.0:\n",
        "            return c\n",
        "        elif func(c) * func(a) < 0:\n",
        "            b = c\n",
        "        else:\n",
        "            a = c\n",
        "        iterasi += 1\n",
        "\n",
        "    return (a + b) / 2.0\n",
        "\n",
        "#Memasukan nilaibatas akar, galat, dan iterasi maksimal\n",
        "batas_bawah = float(input(\"Masukkan batas bawah interval: \"))\n",
        "batas_atas = float(input(\"Masukkan batas atas interval: \"))\n",
        "galat = float(input(\"Masukkan galat: \"))\n",
        "iterasi_maksimal = int(input(\"Masukkan iterasi maksimal: \"))\n",
        "\n",
        "#Pencarian akar dengan metode Bagi Dua\n",
        "hasil_akar = bisection_method(f, batas_bawah, batas_atas, galat, iterasi_maksimal)\n",
        "\n",
        "if hasil_akar is not None:\n",
        "    print(f\"Akar yang ditemukan: {hasil_akar:.6f}\")\n",
        "\n",
        "    #Berfungsi untuk menampilkan grafik fungsi pada interval\n",
        "    x_values = np.linspace(batas_bawah, batas_atas, 1000)\n",
        "    y_values = [f(x) for x in x_values]\n",
        "\n",
        "    plt.plot(x_values, y_values, label='f(x) = x^3 - 2x + 1')\n",
        "    plt.axhline(0, color='red', linestyle='--', label='y=0')\n",
        "    plt.scatter(hasil_akar, 0, color='green', marker='o', label='Akar')\n",
        "    plt.xlabel('x')\n",
        "    plt.ylabel('f(x)')\n",
        "    plt.title('Grafik f(x) = x^3 - 2x + 1')\n",
        "    plt.legend()\n",
        "    plt.grid(True)\n",
        "    plt.show()\n",
        "else:\n",
        "    print(\"Tidak dapat menemukan akar dalam iterasi maksimal.\")"
      ],
      "metadata": {
        "colab": {
          "base_uri": "https://localhost:8080/",
          "height": 559
        },
        "id": "zi7y0lxqdW1o",
        "outputId": "ed0fb733-3bec-4005-c65c-69a40d677c51"
      },
      "execution_count": null,
      "outputs": [
        {
          "output_type": "stream",
          "name": "stdout",
          "text": [
            "Masukkan batas bawah interval: -10\n",
            "Masukkan batas atas interval: 10\n",
            "Masukkan galat: 0.1\n",
            "Masukkan iterasi maksimal: 3\n",
            "Akar yang ditemukan: -1.250000\n"
          ]
        },
        {
          "output_type": "display_data",
          "data": {
            "text/plain": [
              "<Figure size 640x480 with 1 Axes>"
            ],
            "image/png": "[encoded data removed]"
          },
          "metadata": {}
        }
      ]
    },
    {
      "cell_type": "code",
      "source": [
        "import math\n",
        "import numpy as np\n",
        "import matplotlib.pyplot as plt\n",
        "\n",
        "#Fungsi pada soal\n",
        "def f(x):\n",
        "    return e**x - x\n",
        "\n",
        "#Mencari akar dengan metode bagi dua\n",
        "def bisection_method(func, a, b, tol, max_iter):\n",
        "    if func(a) * func(b) >= 0:\n",
        "        print(\"Interval ini mungkin tidak mengandung akar.\")\n",
        "        return None\n",
        "\n",
        "    iterasi = 0\n",
        "    while (b - a) / 2.0 > tol and iterasi < max_iter:\n",
        "        c = (a + b) / 2.0\n",
        "        if func(c) == 0.0:\n",
        "            return c\n",
        "        elif func(c) * func(a) < 0:\n",
        "            b = c\n",
        "        else:\n",
        "            a = c\n",
        "        iterasi += 1\n",
        "\n",
        "    return (a + b) / 2.0\n",
        "\n",
        "#Memasukan nilai batas akar, galat, dan iterasi maksimal\n",
        "batas_bawah = float(input(\"Masukkan batas bawah interval: \"))\n",
        "batas_atas = float(input(\"Masukkan batas atas interval: \"))\n",
        "galat = float(input(\"Masukkan galat: \"))\n",
        "iterasi_maksimal = int(input(\"Masukkan iterasi maksimal: \"))\n",
        "\n",
        "#Pencarian akar dengan metode Bagi Dua\n",
        "hasil_akar = bisection_method(f, batas_bawah, batas_atas, galat, iterasi_maksimal)\n",
        "\n",
        "if hasil_akar is not None:\n",
        "    print(f\"Akar yang ditemukan: {hasil_akar:.6f}\")\n",
        "\n",
        "    #Berfungsi untuk menampilkan grafik fungsi dalam interval\n",
        "    x_values = np.linspace(batas_bawah, batas_atas, 1000)\n",
        "    y_values = [f(x) for x in x_values]\n",
        "\n",
        "    plt.plot(x_values, y_values, label='f(x) = x^3 - 2x + 1')\n",
        "    plt.axhline(0, color='red', linestyle='--', label='y=0')\n",
        "    plt.scatter(hasil_akar, 0, color='green', marker='o', label='Akar')\n",
        "    plt.xlabel('x')\n",
        "    plt.ylabel('f(x)')\n",
        "    plt.title('Grafik f(x) = x^3 - 2x + 1')\n",
        "    plt.legend()\n",
        "    plt.grid(True)\n",
        "    plt.show()\n",
        "else:\n",
        "    print(\"Tidak dapat menemukan akar dalam iterasi maksimal.\")"
      ],
      "metadata": {
        "colab": {
          "base_uri": "https://localhost:8080/",
          "height": 559
        },
        "id": "96MCv9FJd9Dh",
        "outputId": "ac431ef2-fdac-4efe-e0e3-c90e9ad0f69c"
      },
      "execution_count": null,
      "outputs": [
        {
          "output_type": "stream",
          "name": "stdout",
          "text": [
            "Masukkan batas bawah interval: -10\n",
            "Masukkan batas atas interval: 10\n",
            "Masukkan galat: 0.1\n",
            "Masukkan iterasi maksimal: 3\n",
            "Akar yang ditemukan: 1.250000\n"
          ]
        },
        {
          "output_type": "display_data",
          "data": {
            "text/plain": [
              "<Figure size 640x480 with 1 Axes>"
            ],
            "image/png": "[encoded data removed]"
          },
          "metadata": {}
        }
      ]
    }
  ]
}