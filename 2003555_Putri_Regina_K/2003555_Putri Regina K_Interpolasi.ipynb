{
  "nbformat": 4,
  "nbformat_minor": 0,
  "metadata": {
    "colab": {
      "provenance": [],
      "toc_visible": true
    },
    "kernelspec": {
      "name": "python3",
      "display_name": "Python 3"
    },
    "language_info": {
      "name": "python"
    }
  },
  "cells": [
    {
      "cell_type": "markdown",
      "source": [
        "a."
      ],
      "metadata": {
        "id": "b2qKGTTexvj-"
      }
    },
    {
      "cell_type": "markdown",
      "source": [
        "dalam progam untuk soal berikut dengan menggunakan bahasa pemrograman phyton: hampiri fungsi F(x)=cos x dengan interpolasi derajat 3 dengan menggunakan titik-titik berikut\n",
        "\n",
        "x0=0.0 x1=0.4 x2=0.8 x3=1.2\n",
        "\n",
        "y0=1.000 y1=0.921 y2=0.696 y3=0.362"
      ],
      "metadata": {
        "id": "RMHLdnEKxyXj"
      }
    },
    {
      "cell_type": "code",
      "source": [
        "#Bagian pendefinisian data\n",
        "x0 = 0.0\n",
        "x1 = 0.4\n",
        "x2 = 0.8\n",
        "x3 = 1.2\n",
        "y0 = 1.000\n",
        "y1 = 0.921\n",
        "y2 = 0.696\n",
        "y3 = 0.362\n",
        "\n",
        "#Rumus yang digunakan\n",
        "a0 = y0\n",
        "a1 = (y1 - a0) / (x1 - x0)\n",
        "a2 = ((y2 - a0 - a1 * (x2 - x0)) / ((x2 - x0) * (x2 - x1)))\n",
        "a3 = (y3 - a0 - a1 * (x3 - x0) - a2 * (x3 - x0) * (x3 - x1))\n",
        "\n",
        "#Hasil dari kalkulasi yang dilakukan\n",
        "print(f\"a0 =, {a0:.3f}\")\n",
        "print(f\"a1 =, {a1:.3f}\")\n",
        "print(f\"a2 =, {a2:.3f}\")\n",
        "print(f\"a3 =, {a3:.3f}\")"
      ],
      "metadata": {
        "colab": {
          "base_uri": "https://localhost:8080/"
        },
        "id": "7ut_YXESx00K",
        "outputId": "072ff2dd-1f07-4a5c-98ba-a64d2a26f513"
      },
      "execution_count": 1,
      "outputs": [
        {
          "output_type": "stream",
          "name": "stdout",
          "text": [
            "a0 =, 1.000\n",
            "a1 =, -0.197\n",
            "a2 =, -0.456\n",
            "a3 =, 0.037\n"
          ]
        }
      ]
    },
    {
      "cell_type": "markdown",
      "source": [
        "B.\n",
        "\n",
        "Mencari Perkiraan nilai Cos(0,5)"
      ],
      "metadata": {
        "id": "uzxx1UKFykZu"
      }
    },
    {
      "cell_type": "code",
      "source": [
        "#Nilai X = 5\n",
        "x = 0.5\n",
        "#Proses subtitusi ubstitusikan\n",
        "p3x = a0 + a1 * (x - x0) + a2 * (x - x0) * (x - x1) + a3 * (x - x0) * (x - x1) * (x - x2)\n",
        "#Hasil yang didapatkan\n",
        "print(f\"cos(0.5) = {p3x:.3f}\")"
      ],
      "metadata": {
        "colab": {
          "base_uri": "https://localhost:8080/"
        },
        "id": "XIiEnG9lyl_f",
        "outputId": "89e3cffc-9bd4-4e71-d57d-4b5df94d145f"
      },
      "execution_count": 2,
      "outputs": [
        {
          "output_type": "stream",
          "name": "stdout",
          "text": [
            "cos(0.5) = 0.878\n"
          ]
        }
      ]
    },
    {
      "cell_type": "markdown",
      "source": [
        "C.\n",
        "\n",
        "Jika nilai Eksak cos(0.5) adalah 0.826 maka berapa nilai yang akan dihasilkan?"
      ],
      "metadata": {
        "id": "sNK9TdQCyzDR"
      }
    },
    {
      "cell_type": "code",
      "source": [
        "#Maka nilai eksaknya adalah 0.826\n",
        "eksak = 0.826\n",
        "\n",
        "#Perhitungan Absolut\n",
        "absolut = abs(p3x - eksak)\n",
        "\n",
        "#Maka akan didapatkan hasil\n",
        "print(f\"Errornya = {absolut:.3f}\")"
      ],
      "metadata": {
        "colab": {
          "base_uri": "https://localhost:8080/"
        },
        "id": "OxqZmiD8y0UP",
        "outputId": "7cdf4014-33d2-4146-ac4e-3b5aa065386c"
      },
      "execution_count": 4,
      "outputs": [
        {
          "output_type": "stream",
          "name": "stdout",
          "text": [
            "Errornya = 0.052\n"
          ]
        }
      ]
    }
  ]
}
