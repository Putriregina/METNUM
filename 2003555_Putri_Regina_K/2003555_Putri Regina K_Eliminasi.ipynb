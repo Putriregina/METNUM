{
  "nbformat": 4,
  "nbformat_minor": 0,
  "metadata": {
    "colab": {
      "provenance": []
    },
    "kernelspec": {
      "name": "python3",
      "display_name": "Python 3"
    },
    "language_info": {
      "name": "python"
    }
  },
  "cells": [
    {
      "cell_type": "code",
      "execution_count": 1,
      "metadata": {
        "colab": {
          "base_uri": "https://localhost:8080/"
        },
        "id": "PQWDlduG_86y",
        "outputId": "4b344c0a-2c5e-4139-ec3f-393409c0c2d5"
      },
      "outputs": [
        {
          "output_type": "stream",
          "name": "stdout",
          "text": [
            "Input jumlah variabel dalam sistem persamaan linear: 2\n",
            "Input matriks koefisien dan vektor konstanta:\n",
            "Input baris 1 (Bilangan desimal, pisahkan dengan spasi): 1 2 3\n",
            "Input baris 2 (Bilangan desimal, pisahkan dengan spasi): 2 3 4\n",
            "Input sistem persamaan linear:\n",
            "x1 = -1.0\n",
            "x2 = 2.0\n"
          ]
        }
      ],
      "source": [
        "def gauss_jordan_elimination(matrix):\n",
        "    n = len(matrix)\n",
        "\n",
        "    for i in range(n):\n",
        "        # Pivoting\n",
        "        max_row = i\n",
        "        for j in range(i + 1, n):\n",
        "            if abs(matrix[j][i]) > abs(matrix[max_row][i]):\n",
        "                max_row = j\n",
        "        matrix[i], matrix[max_row] = matrix[max_row], matrix[i]\n",
        "        pivot = matrix[i][i]\n",
        "        for j in range(i, n + 1):\n",
        "            matrix[i][j] /= pivot\n",
        "        for j in range(n):\n",
        "            if j != i:\n",
        "                factor = matrix[j][i]\n",
        "                for k in range(i, n + 1):\n",
        "                    matrix[j][k] -= factor * matrix[i][k]\n",
        "\n",
        "    solutions = [row[-1] for row in matrix]\n",
        "    return solutions\n",
        "\n",
        "n = int(input(\"Input jumlah variabel dalam sistem persamaan linear: \"))\n",
        "\n",
        "matrix = []\n",
        "print(\"Input matriks koefisien dan vektor konstanta:\")\n",
        "for i in range(n):\n",
        "    row = list(map(float, input(f\"Masukkan baris {i + 1} (Bilangan desimal, pisahkan dengan spasi): \").split()))\n",
        "    matrix.append(row)\n",
        "solutions = gauss_jordan_elimination(matrix)\n",
        "\n",
        "print(\"Hasil sistem persamaan linear:\")\n",
        "for i, sol in enumerate(solutions):\n",
        "    print(f\"x{i+1} = {sol}\")"
      ]
    }
  ]
}
